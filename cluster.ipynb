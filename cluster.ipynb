{
 "cells": [
  {
   "cell_type": "code",
   "execution_count": 2,
   "metadata": {},
   "outputs": [
    {
     "name": "stdout",
     "output_type": "stream",
     "text": [
      "(784,)\n"
     ]
    },
    {
     "data": {
      "text/plain": [
       "<matplotlib.figure.Figure at 0x24632599fd0>"
      ]
     },
     "metadata": {},
     "output_type": "display_data"
    }
   ],
   "source": [
    "import scipy.io\n",
    "mat = scipy.io.loadmat('data/digits-train.mat')\n",
    "\n",
    "import matplotlib.pyplot as plt\n",
    "import numpy as np\n",
    "x = np.array(mat['images_train'][:,0])\n",
    "print(x.shape)\n",
    "plt.imshow(x.reshape(28,28))\n",
    "plt.show()"
   ]
  },
  {
   "cell_type": "code",
   "execution_count": 3,
   "metadata": {},
   "outputs": [],
   "source": [
    "feat = mat['fea_hog_train']"
   ]
  },
  {
   "cell_type": "code",
   "execution_count": 4,
   "metadata": {},
   "outputs": [],
   "source": [
    "from sklearn.metrics.cluster import supervised\n",
    "from scipy.optimize import linear_sum_assignment\n",
    "\n",
    "def accuracy(labels_true, labels_pred):\n",
    "    labels_true, labels_pred = supervised.check_clusterings(labels_true, labels_pred)\n",
    "    # labels_true : int array with ground truth labels, shape = [n_samples]\n",
    "    # labels_pred : int array with estimated labels, shape = [n_samples]\n",
    "    value = supervised.contingency_matrix(labels_true, labels_pred)\n",
    "    # value : array of shape [n, n] whose (i, j)-th entry is the number of samples in true class i and in predicted class j\n",
    "    [r, c] = linear_sum_assignment(-value)\n",
    "    return value[r, c].sum() / len(labels_true)"
   ]
  },
  {
   "cell_type": "code",
   "execution_count": 5,
   "metadata": {},
   "outputs": [
    {
     "data": {
      "text/plain": [
       "1.0"
      ]
     },
     "execution_count": 5,
     "metadata": {},
     "output_type": "execute_result"
    }
   ],
   "source": [
    "accuracy([2]*10,[1]*10)"
   ]
  },
  {
   "cell_type": "code",
   "execution_count": 6,
   "metadata": {},
   "outputs": [
    {
     "data": {
      "text/plain": [
       "(5000,)"
      ]
     },
     "execution_count": 6,
     "metadata": {},
     "output_type": "execute_result"
    }
   ],
   "source": [
    "np.reshape(mat['labels_train'],-1).shape"
   ]
  },
  {
   "cell_type": "code",
   "execution_count": 7,
   "metadata": {},
   "outputs": [
    {
     "data": {
      "text/plain": [
       "0.6276"
      ]
     },
     "execution_count": 7,
     "metadata": {},
     "output_type": "execute_result"
    }
   ],
   "source": [
    "import sklearn.cluster\n",
    "from sklearn.cluster import KMeans\n",
    "from sklearn.cluster import SpectralClustering\n",
    "import numpy as np\n",
    "\n",
    "kmeans = sklearn.cluster.KMeans(n_clusters=5, random_state=0).fit_predict(np.transpose(feat))\n",
    "accuracy(kmeans, np.reshape(mat['labels_train'],-1))"
   ]
  },
  {
   "cell_type": "code",
   "execution_count": 8,
   "metadata": {},
   "outputs": [
    {
     "data": {
      "text/plain": [
       "0.59"
      ]
     },
     "execution_count": 8,
     "metadata": {},
     "output_type": "execute_result"
    }
   ],
   "source": [
    "\n",
    "kmeans = sklearn.cluster.SpectralClustering(n_clusters=5).fit_predict(np.transpose(feat))\n",
    "accuracy(kmeans, np.reshape(mat['labels_train'],-1))"
   ]
  },
  {
   "cell_type": "code",
   "execution_count": null,
   "metadata": {},
   "outputs": [
    {
     "data": {
      "text/plain": [
       "0.6316"
      ]
     },
     "execution_count": 9,
     "metadata": {},
     "output_type": "execute_result"
    }
   ],
   "source": [
    "\n",
    "kmeans = sklearn.cluster.Birch(n_clusters=5).fit_predict(np.transpose(feat))\n",
    "accuracy(kmeans, np.reshape(mat['labels_train'],-1))"
   ]
  },
  {
   "cell_type": "code",
   "execution_count": null,
   "metadata": {},
   "outputs": [
    {
     "name": "stdout",
     "output_type": "stream",
     "text": [
      "full :  0.62868 +/- 0.003829569166368475\n"
     ]
    }
   ],
   "source": [
    "import sklearn.mixture\n",
    "for g in ['full', 'tied', 'diag', 'spherical']:\n",
    "    accs = []\n",
    "    for _ in range(5):\n",
    "        gmm = sklearn.mixture.GaussianMixture(n_components=5, covariance_type=g, max_iter=100).fit(np.transpose(feat))\n",
    "        kmeans = gmm.predict(np.transpose(feat))\n",
    "        accs.append(accuracy(kmeans, np.reshape(mat['labels_train'],-1)))\n",
    "    print(g, ': ', np.mean(accs), '+/-', np.std(accs))"
   ]
  },
  {
   "cell_type": "code",
   "execution_count": null,
   "metadata": {},
   "outputs": [],
   "source": [
    "import tensorflow"
   ]
  },
  {
   "cell_type": "code",
   "execution_count": null,
   "metadata": {},
   "outputs": [],
   "source": [
    "\n",
    "from keras.layers import Input, Dense, Conv2D, MaxPooling2D, AveragePooling2D, ZeroPadding2D, Flatten, Activation, add\n",
    "from keras.optimizers import SGD\n",
    "from keras.layers.normalization import BatchNormalization\n",
    "from keras.models import Model\n",
    "from keras import initializers\n",
    "from keras.engine import Layer, InputSpec\n",
    "from keras import backend as K\n",
    "\n",
    "from resnet_keras import resnet152_model\n",
    "\n",
    "weights_path = 'resnet_data/resnet152_weights_tf.h5'\n",
    "\n",
    "model = resnet152_model(weights_path)\n",
    "sgd = SGD(lr=1e-2, decay=1e-6, momentum=0.9, nesterov=True)\n",
    "model.compile(optimizer=sgd, loss='categorical_crossentropy', metrics=['accuracy'])\n",
    "\n",
    "\n",
    "layer_name = 'avg_pool'\n",
    "\n",
    "intermediate_layer_model = Model(inputs=model.input,\n",
    "                                 outputs=model.get_layer(layer_name).output)\n"
   ]
  },
  {
   "cell_type": "code",
   "execution_count": null,
   "metadata": {},
   "outputs": [],
   "source": [
    "import cv2\n",
    "\n",
    "perm = np.random.permutation(5000)[:50]\n",
    "x = np.reshape(np.transpose(np.repeat(mat['images_train'][:,perm, np.newaxis],3, axis=2), (1, 0, 2)), (-1, 28, 28, 3))\n",
    "\n",
    "large_images = np.array([scipy.misc.imresize(image, size=(224,224)) for image in x])\n",
    "\n",
    "intermediate_output = intermediate_layer_model.predict(large_images)\n",
    "print(intermediate_output.shape)"
   ]
  },
  {
   "cell_type": "code",
   "execution_count": null,
   "metadata": {},
   "outputs": [],
   "source": [
    "intermediate_output.shape"
   ]
  },
  {
   "cell_type": "code",
   "execution_count": null,
   "metadata": {},
   "outputs": [],
   "source": [
    "import sklearn.cluster\n",
    "from sklearn.cluster import KMeans\n",
    "from sklearn.cluster import SpectralClustering\n",
    "import numpy as np\n",
    "\n",
    "kmeans = sklearn.cluster.Birch(n_clusters=5).fit_predict(np.squeeze(intermediate_output))\n",
    "accuracy(kmeans, np.reshape(mat['labels_train'][perm],-1))"
   ]
  },
  {
   "cell_type": "code",
   "execution_count": null,
   "metadata": {},
   "outputs": [],
   "source": [
    "import scipy.misc\n",
    "\n",
    "print(x[0])\n",
    "\n",
    "y = np.array([scipy.misc.imresize(image, size=(224,224)) for image in x[:]])\n",
    "print(y.shape)"
   ]
  },
  {
   "cell_type": "code",
   "execution_count": null,
   "metadata": {},
   "outputs": [],
   "source": [
    "np.savetxt('digits.cvs', kmeans, fmt='%i', delimiter=',')"
   ]
  }
 ],
 "metadata": {
  "kernelspec": {
   "display_name": "Python 3",
   "language": "python",
   "name": "python3"
  },
  "language_info": {
   "codemirror_mode": {
    "name": "ipython",
    "version": 3
   },
   "file_extension": ".py",
   "mimetype": "text/x-python",
   "name": "python",
   "nbconvert_exporter": "python",
   "pygments_lexer": "ipython3",
   "version": "3.6.4"
  }
 },
 "nbformat": 4,
 "nbformat_minor": 2
}
